{
 "cells": [
  {
   "cell_type": "markdown",
   "metadata": {},
   "source": [
    "# Chemical Process Anomaly Detection Baseline 🕵️\n",
    "### 화학 공정 데이터를 분석하고 🧐, 이상 탐지 Baseline Model 을 학습합니다 📖.\n"
   ]
  },
  {
   "cell_type": "markdown",
   "metadata": {},
   "source": [
    "## Table of Contents\n",
    "1. 필요 Library Import\n",
    "2. Load Data\n",
    "3. EDA\n",
    "4. Data Process\n",
    "5. Model Training\n",
    "6. Model Inference\n"
   ]
  },
  {
   "cell_type": "markdown",
   "metadata": {},
   "source": [
    "### 1. 필요 Library Import"
   ]
  },
  {
   "cell_type": "markdown",
   "metadata": {},
   "source": [
    "- 필요 Library 설치를 위해 아래 명령어를 실행 합니다.\n",
    "- (실행 초기에 한 번만 실행하면 됩니다!)"
   ]
  },
  {
   "cell_type": "code",
   "execution_count": 1,
   "metadata": {},
   "outputs": [
    {
     "name": "stdout",
     "output_type": "stream",
     "text": [
      "Requirement already satisfied: astunparse==1.6.3 in /opt/conda/lib/python3.10/site-packages (from -r requirements.txt (line 1)) (1.6.3)\n",
      "Requirement already satisfied: attrs==23.1.0 in /opt/conda/lib/python3.10/site-packages (from -r requirements.txt (line 2)) (23.1.0)\n",
      "Requirement already satisfied: brotlipy==0.7.0 in /opt/conda/lib/python3.10/site-packages (from -r requirements.txt (line 3)) (0.7.0)\n",
      "Requirement already satisfied: dnspython==2.4.2 in /opt/conda/lib/python3.10/site-packages (from -r requirements.txt (line 4)) (2.4.2)\n",
      "Requirement already satisfied: expecttest==0.1.6 in /opt/conda/lib/python3.10/site-packages (from -r requirements.txt (line 5)) (0.1.6)\n",
      "Requirement already satisfied: fsspec==2023.9.2 in /opt/conda/lib/python3.10/site-packages (from -r requirements.txt (line 6)) (2023.9.2)\n",
      "Requirement already satisfied: hypothesis==6.87.1 in /opt/conda/lib/python3.10/site-packages (from -r requirements.txt (line 7)) (6.87.1)\n",
      "Requirement already satisfied: joblib==1.3.2 in /opt/conda/lib/python3.10/site-packages (from -r requirements.txt (line 8)) (1.3.2)\n",
      "Requirement already satisfied: jsonpointer==2.1 in /opt/conda/lib/python3.10/site-packages (from -r requirements.txt (line 9)) (2.1)\n",
      "Requirement already satisfied: matplotlib==3.8.2 in /opt/conda/lib/python3.10/site-packages (from -r requirements.txt (line 10)) (3.8.2)\n",
      "Requirement already satisfied: mkl-service==2.4.0 in /opt/conda/lib/python3.10/site-packages (from -r requirements.txt (line 11)) (2.4.0)\n",
      "Requirement already satisfied: nbformat==5.9.2 in /opt/conda/lib/python3.10/site-packages (from -r requirements.txt (line 12)) (5.9.2)\n",
      "Requirement already satisfied: pandas==2.1.4 in /opt/conda/lib/python3.10/site-packages (from -r requirements.txt (line 13)) (2.1.4)\n",
      "Requirement already satisfied: pathlib==1.0.1 in /opt/conda/lib/python3.10/site-packages (from -r requirements.txt (line 14)) (1.0.1)\n",
      "Requirement already satisfied: plotly==5.18.0 in /opt/conda/lib/python3.10/site-packages (from -r requirements.txt (line 15)) (5.18.0)\n",
      "Requirement already satisfied: pyarrow==14.0.2 in /opt/conda/lib/python3.10/site-packages (from -r requirements.txt (line 16)) (14.0.2)\n",
      "Requirement already satisfied: python-dateutil==2.8.2 in /opt/conda/lib/python3.10/site-packages (from -r requirements.txt (line 17)) (2.8.2)\n",
      "Requirement already satisfied: python-etcd==0.4.5 in /opt/conda/lib/python3.10/site-packages (from -r requirements.txt (line 18)) (0.4.5)\n",
      "Requirement already satisfied: scikit-learn==1.3.2 in /opt/conda/lib/python3.10/site-packages (from -r requirements.txt (line 19)) (1.3.2)\n",
      "Requirement already satisfied: scipy==1.11.4 in /opt/conda/lib/python3.10/site-packages (from -r requirements.txt (line 20)) (1.11.4)\n",
      "Requirement already satisfied: sortedcontainers==2.4.0 in /opt/conda/lib/python3.10/site-packages (from -r requirements.txt (line 21)) (2.4.0)\n",
      "Requirement already satisfied: threadpoolctl==3.2.0 in /opt/conda/lib/python3.10/site-packages (from -r requirements.txt (line 22)) (3.2.0)\n",
      "Requirement already satisfied: triton==2.1.0 in /opt/conda/lib/python3.10/site-packages (from -r requirements.txt (line 23)) (2.1.0)\n",
      "Requirement already satisfied: types-dataclasses==0.6.6 in /opt/conda/lib/python3.10/site-packages (from -r requirements.txt (line 24)) (0.6.6)\n",
      "Requirement already satisfied: tzdata==2023.4 in /opt/conda/lib/python3.10/site-packages (from -r requirements.txt (line 25)) (2023.4)\n",
      "Requirement already satisfied: wheel<1.0,>=0.23.0 in /opt/conda/lib/python3.10/site-packages (from astunparse==1.6.3->-r requirements.txt (line 1)) (0.41.2)\n",
      "Requirement already satisfied: six<2.0,>=1.6.1 in /opt/conda/lib/python3.10/site-packages (from astunparse==1.6.3->-r requirements.txt (line 1)) (1.16.0)\n",
      "Requirement already satisfied: cffi>=1.0.0 in /opt/conda/lib/python3.10/site-packages (from brotlipy==0.7.0->-r requirements.txt (line 3)) (1.15.1)\n",
      "Requirement already satisfied: exceptiongroup>=1.0.0 in /opt/conda/lib/python3.10/site-packages (from hypothesis==6.87.1->-r requirements.txt (line 7)) (1.0.4)\n",
      "Requirement already satisfied: contourpy>=1.0.1 in /opt/conda/lib/python3.10/site-packages (from matplotlib==3.8.2->-r requirements.txt (line 10)) (1.2.1)\n",
      "Requirement already satisfied: cycler>=0.10 in /opt/conda/lib/python3.10/site-packages (from matplotlib==3.8.2->-r requirements.txt (line 10)) (0.12.1)\n",
      "Requirement already satisfied: fonttools>=4.22.0 in /opt/conda/lib/python3.10/site-packages (from matplotlib==3.8.2->-r requirements.txt (line 10)) (4.51.0)\n",
      "Requirement already satisfied: kiwisolver>=1.3.1 in /opt/conda/lib/python3.10/site-packages (from matplotlib==3.8.2->-r requirements.txt (line 10)) (1.4.5)\n",
      "Requirement already satisfied: numpy<2,>=1.21 in /opt/conda/lib/python3.10/site-packages (from matplotlib==3.8.2->-r requirements.txt (line 10)) (1.26.0)\n",
      "Requirement already satisfied: packaging>=20.0 in /opt/conda/lib/python3.10/site-packages (from matplotlib==3.8.2->-r requirements.txt (line 10)) (23.1)\n",
      "Requirement already satisfied: pillow>=8 in /opt/conda/lib/python3.10/site-packages (from matplotlib==3.8.2->-r requirements.txt (line 10)) (9.4.0)\n",
      "Requirement already satisfied: pyparsing>=2.3.1 in /opt/conda/lib/python3.10/site-packages (from matplotlib==3.8.2->-r requirements.txt (line 10)) (3.1.2)\n",
      "Requirement already satisfied: fastjsonschema in /opt/conda/lib/python3.10/site-packages (from nbformat==5.9.2->-r requirements.txt (line 12)) (2.19.1)\n",
      "Requirement already satisfied: jsonschema>=2.6 in /opt/conda/lib/python3.10/site-packages (from nbformat==5.9.2->-r requirements.txt (line 12)) (4.21.1)\n",
      "Requirement already satisfied: jupyter-core in /opt/conda/lib/python3.10/site-packages (from nbformat==5.9.2->-r requirements.txt (line 12)) (5.7.2)\n",
      "Requirement already satisfied: traitlets>=5.1 in /opt/conda/lib/python3.10/site-packages (from nbformat==5.9.2->-r requirements.txt (line 12)) (5.7.1)\n",
      "Requirement already satisfied: pytz>=2020.1 in /opt/conda/lib/python3.10/site-packages (from pandas==2.1.4->-r requirements.txt (line 13)) (2023.3.post1)\n",
      "Requirement already satisfied: tenacity>=6.2.0 in /opt/conda/lib/python3.10/site-packages (from plotly==5.18.0->-r requirements.txt (line 15)) (8.2.3)\n",
      "Requirement already satisfied: urllib3>=1.7.1 in /opt/conda/lib/python3.10/site-packages (from python-etcd==0.4.5->-r requirements.txt (line 18)) (1.26.16)\n",
      "Requirement already satisfied: filelock in /opt/conda/lib/python3.10/site-packages (from triton==2.1.0->-r requirements.txt (line 23)) (3.9.0)\n",
      "Requirement already satisfied: pycparser in /opt/conda/lib/python3.10/site-packages (from cffi>=1.0.0->brotlipy==0.7.0->-r requirements.txt (line 3)) (2.21)\n",
      "Requirement already satisfied: jsonschema-specifications>=2023.03.6 in /opt/conda/lib/python3.10/site-packages (from jsonschema>=2.6->nbformat==5.9.2->-r requirements.txt (line 12)) (2023.12.1)\n",
      "Requirement already satisfied: referencing>=0.28.4 in /opt/conda/lib/python3.10/site-packages (from jsonschema>=2.6->nbformat==5.9.2->-r requirements.txt (line 12)) (0.34.0)\n",
      "Requirement already satisfied: rpds-py>=0.7.1 in /opt/conda/lib/python3.10/site-packages (from jsonschema>=2.6->nbformat==5.9.2->-r requirements.txt (line 12)) (0.18.0)\n",
      "Requirement already satisfied: platformdirs>=2.5 in /opt/conda/lib/python3.10/site-packages (from jupyter-core->nbformat==5.9.2->-r requirements.txt (line 12)) (4.2.0)\n",
      "\u001b[33mWARNING: Running pip as the 'root' user can result in broken permissions and conflicting behaviour with the system package manager. It is recommended to use a virtual environment instead: https://pip.pypa.io/warnings/venv\u001b[0m\u001b[33m\n",
      "\u001b[0m"
     ]
    }
   ],
   "source": [
    "! pip install -r requirements.txt"
   ]
  },
  {
   "cell_type": "markdown",
   "metadata": {},
   "source": [
    "- 노트북에서 사용하는 필요 Library 를 import 합니다"
   ]
  },
  {
   "cell_type": "code",
   "execution_count": 2,
   "metadata": {},
   "outputs": [],
   "source": [
    "from typing import Union\n",
    "import matplotlib.pyplot as plt\n",
    "import numpy as np\n",
    "import pandas as pd\n",
    "import random\n",
    "from pathlib import Path\n",
    "from sklearn.ensemble import IsolationForest\n",
    "from sklearn.linear_model import SGDOneClassSVM\n",
    "from sklearn.cluster import DBSCAN"
   ]
  },
  {
   "cell_type": "markdown",
   "metadata": {},
   "source": [
    "- 모델 학습에 필요한 `random_seed` 를 설정하고, `DATA_PATH` 를 설정합니다.\n",
    "- 해당 `DATA_PATH` 에는 `train.csv`, `test.csv` 파일이 있다고 가정합니다."
   ]
  },
  {
   "cell_type": "code",
   "execution_count": 3,
   "metadata": {},
   "outputs": [],
   "source": [
    "RANDOM_SEED = 42\n",
    "DATA_PATH = Path(\"../data\")\n",
    "\n",
    "np.random.seed(RANDOM_SEED)\n",
    "random.seed(RANDOM_SEED)\n"
   ]
  },
  {
   "cell_type": "markdown",
   "metadata": {},
   "source": [
    "### 2. Load Train Data\n"
   ]
  },
  {
   "cell_type": "code",
   "execution_count": 4,
   "metadata": {},
   "outputs": [],
   "source": [
    "train_data = pd.read_csv(DATA_PATH / \"train.csv\")"
   ]
  },
  {
   "cell_type": "markdown",
   "metadata": {},
   "source": [
    "### 고민해볼 사항 🤔\n",
    "- 일반적인 ML Model 에서 상관관계가 거의 1인 변수들의 경우, 중복된 정보량을 담고 있으므로 학습에 제거하는 경우가 있습니다.\n",
    "- 하지만 학습 데이터인 **정상 데이터 대해 상관 관계를 계산** 한 것이고, 비정상 데이터에선 동일 데이터의 상관관계가 달라질 수 있습니다.\n",
    "- 실제 화학 공정에서 이상이 발생하는 경우는 특정 변수들과의 상관 관계가 깨지는 경우도 포함될 수 있습니다.\n",
    "- 따라서, 상관 관계에 따라 변수를 선택할지 제거할지 결정할 땐 **모델의 성능**과 같이 고려하는 것이 바람직합니다."
   ]
  },
  {
   "cell_type": "markdown",
   "metadata": {},
   "source": [
    "### 4. Data Process"
   ]
  },
  {
   "cell_type": "markdown",
   "metadata": {},
   "source": [
    "- `simulationRun` 과 `sample` 변수는 큰 정보량을 담고 있지 않기 때문에, 공정의 센서 값을 반영하는 변수들을 선택합니다.\n",
    "- 따라서, `process_data` 함수에서는 `xmeas`, `xmv` 와 같은 숫자형 변수들을(numerical value) 초도 모델 학습에 사용합니다.\n",
    "- 정규화와 feature engineering의 과정은 포함되지 않았으므로, `process_data` 함수 전, 후로 더 다양한 전처리 과정을 추가해보시길 권장합니다."
   ]
  },
  {
   "cell_type": "code",
   "execution_count": 7,
   "metadata": {},
   "outputs": [],
   "source": [
    "def process_data(df) -> pd.DataFrame:\n",
    "    numeric_cols = [\n",
    "        'xmeas_1', 'xmeas_10', 'xmeas_11', 'xmeas_12', 'xmeas_13', 'xmeas_14',\n",
    "        'xmeas_15', 'xmeas_16', 'xmeas_17', 'xmeas_18', 'xmeas_19', 'xmeas_2',\n",
    "        'xmeas_20', 'xmeas_21', 'xmeas_22', 'xmeas_23', 'xmeas_24', 'xmeas_25',\n",
    "        'xmeas_26', 'xmeas_27', 'xmeas_28', 'xmeas_29', 'xmeas_3', 'xmeas_30',\n",
    "        'xmeas_31', 'xmeas_32', 'xmeas_33', 'xmeas_34', 'xmeas_35', 'xmeas_36',\n",
    "        'xmeas_37', 'xmeas_38', 'xmeas_39', 'xmeas_4', 'xmeas_40', 'xmeas_41',\n",
    "        'xmeas_5', 'xmeas_6', 'xmeas_7', 'xmeas_8', 'xmeas_9', 'xmv_1',\n",
    "        'xmv_10', 'xmv_11', 'xmv_2', 'xmv_3', 'xmv_4', 'xmv_5', 'xmv_6',\n",
    "        'xmv_7', 'xmv_8', 'xmv_9'\n",
    "    ]\n",
    "    return df[numeric_cols]"
   ]
  },
  {
   "cell_type": "code",
   "execution_count": 8,
   "metadata": {},
   "outputs": [],
   "source": [
    "train_X = process_data(train_data)"
   ]
  },
  {
   "cell_type": "markdown",
   "metadata": {},
   "source": [
    "### 5. Model Training"
   ]
  },
  {
   "cell_type": "code",
   "execution_count": 9,
   "metadata": {},
   "outputs": [
    {
     "name": "stdout",
     "output_type": "stream",
     "text": [
      "Detected clusters: 106\n",
      "Noise points: 8135\n"
     ]
    },
    {
     "name": "stderr",
     "output_type": "stream",
     "text": [
      "/tmp/ipykernel_1480547/894251191.py:45: SettingWithCopyWarning: \n",
      "A value is trying to be set on a copy of a slice from a DataFrame\n",
      "\n",
      "See the caveats in the documentation: https://pandas.pydata.org/pandas-docs/stable/user_guide/indexing.html#returning-a-view-versus-a-copy\n",
      "  output_df.rename(columns={'index': 'sample'}, inplace=True)\n"
     ]
    },
    {
     "name": "stdout",
     "output_type": "stream",
     "text": [
      "File saved to: ../submission/DBSCAN_output_new.csv\n"
     ]
    }
   ],
   "source": [
    "\n",
    "class AnomalyDetection:\n",
    "    def __init__(self, df, eps=25, min_samples=4):\n",
    "        self.df = df\n",
    "        self.train_X = self.process_data(df)\n",
    "        self.eps = eps\n",
    "        self.min_samples = min_samples\n",
    "        self.dbscan_model = DBSCAN(eps=eps, min_samples=min_samples)\n",
    "        self.cluster_labels = None\n",
    "    \n",
    "    def process_data(self, df):\n",
    "        numeric_cols = df.select_dtypes(include=[np.number]).columns.tolist()\n",
    "        if 'cluster' in numeric_cols:\n",
    "            numeric_cols.remove('cluster')\n",
    "        return df[numeric_cols]\n",
    "    \n",
    "    def fit_dbscan(self):\n",
    "        self.dbscan_model.fit(self.train_X)\n",
    "        self.cluster_labels = self.dbscan_model.labels_\n",
    "        return self.dbscan_model\n",
    "    \n",
    "    def add_cluster_labels(self):\n",
    "        self.train_X['cluster'] = self.cluster_labels\n",
    "    \n",
    "    def get_cluster_info(self):\n",
    "        n_clusters = len(set(self.cluster_labels)) - (1 if -1 in self.cluster_labels else 0)\n",
    "        n_noise = list(self.cluster_labels).count(-1)\n",
    "        return n_clusters, n_noise\n",
    "\n",
    "    def apply_to_test_data(self, test_df):\n",
    "        test_X = self.process_data(test_df)\n",
    "        test_dbscan = DBSCAN(eps=self.eps, min_samples=self.min_samples).fit(test_X)\n",
    "        test_X['cluster'] = test_dbscan.labels_\n",
    "        \n",
    "        # 필터링 및 결과 저장\n",
    "        non_zero_clusters = test_X[test_X['cluster'] != 0]\n",
    "        test_X.to_csv('../submission/test_X.csv', index=False)\n",
    "\n",
    "        test_X['faultNumber'] = test_X['cluster'].apply(lambda x: 0 if x == 0 else 1)\n",
    "        output_df = test_X[['faultNumber']]\n",
    "        output_df.reset_index(inplace=True)\n",
    "        output_df.rename(columns={'index': 'sample'}, inplace=True)\n",
    "\n",
    "        fault_number_file_path = '../submission/DBSCAN_output_new.csv'\n",
    "        output_df.to_csv(fault_number_file_path, index=False)\n",
    "        \n",
    "        return non_zero_clusters, fault_number_file_path\n",
    "\n",
    "# 사용 예\n",
    "train_data = pd.read_csv(\"../data/train.csv\")\n",
    "test_data = pd.read_csv(\"../data/test.csv\")\n",
    "\n",
    "ad_model = AnomalyDetection(train_data)\n",
    "ad_model.fit_dbscan()\n",
    "ad_model.add_cluster_labels()\n",
    "n_clusters, n_noise = ad_model.get_cluster_info()\n",
    "\n",
    "print(f\"Detected clusters: {n_clusters}\")\n",
    "print(f\"Noise points: {n_noise}\")\n",
    "\n",
    "# 테스트 데이터에 적용\n",
    "non_zero_clusters, fault_number_file_path = ad_model.apply_to_test_data(test_data)\n",
    "print(f\"File saved to: {fault_number_file_path}\")\n"
   ]
  }
 ],
 "metadata": {
  "kernelspec": {
   "display_name": "3.8-beth",
   "language": "python",
   "name": "python3"
  },
  "language_info": {
   "codemirror_mode": {
    "name": "ipython",
    "version": 3
   },
   "file_extension": ".py",
   "mimetype": "text/x-python",
   "name": "python",
   "nbconvert_exporter": "python",
   "pygments_lexer": "ipython3",
   "version": "3.10.13"
  }
 },
 "nbformat": 4,
 "nbformat_minor": 2
}
